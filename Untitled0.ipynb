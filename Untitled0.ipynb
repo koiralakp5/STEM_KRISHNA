{
  "nbformat": 4,
  "nbformat_minor": 0,
  "metadata": {
    "colab": {
      "name": "Untitled0.ipynb",
      "provenance": [],
      "authorship_tag": "ABX9TyPchrqMA1hXjRsAlm2kT8mP",
      "include_colab_link": true
    },
    "kernelspec": {
      "name": "python3",
      "display_name": "Python 3"
    },
    "language_info": {
      "name": "python"
    }
  },
  "cells": [
    {
      "cell_type": "markdown",
      "metadata": {
        "id": "view-in-github",
        "colab_type": "text"
      },
      "source": [
        "<a href=\"https://colab.research.google.com/github/koiralakp5/STEM_KRISHNA/blob/main/Untitled0.ipynb\" target=\"_parent\"><img src=\"https://colab.research.google.com/assets/colab-badge.svg\" alt=\"Open In Colab\"/></a>"
      ]
    },
    {
      "cell_type": "code",
      "metadata": {
        "colab": {
          "base_uri": "https://localhost:8080/"
        },
        "id": "eAhBey3dlYih",
        "outputId": "bd01f707-c387-4a50-e462-628313eee657"
      },
      "source": [
        "# We need to import the numpy package\n",
        "import numpy as np\n",
        "\n",
        "# We define the two vectors\n",
        "a_vector = [1,1,2]\n",
        "b_vector = [0,3,1]\n",
        "\n",
        "# calculate the lengths of the vectors\n",
        "a_length = np.linalg.norm(a_vector)\n",
        "b_length = np.linalg.norm(b_vector)\n",
        "\n",
        "#now the angle between vectors a and b according to above formula\n",
        "theta = np.arccos(np.dot(a_vector, b_vector) / (a_length * b_length) )\n",
        "\n",
        "print(f'The angle between vectors a and b is {np.degrees(theta):.2f}°' )"
      ],
      "execution_count": 1,
      "outputs": [
        {
          "output_type": "stream",
          "text": [
            "The angle between vectors a and b is 49.80°\n"
          ],
          "name": "stdout"
        }
      ]
    },
    {
      "cell_type": "code",
      "metadata": {
        "id": "-8yRE2-Rl5Ni"
      },
      "source": [
        ""
      ],
      "execution_count": null,
      "outputs": []
    }
  ]
}